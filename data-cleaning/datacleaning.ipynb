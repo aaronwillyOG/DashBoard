{
 "cells": [
  {
   "cell_type": "code",
   "execution_count": 1,
   "metadata": {},
   "outputs": [
    {
     "name": "stdout",
     "output_type": "stream",
     "text": [
      "Requirement already satisfied: pandas in c:\\users\\hp\\appdata\\local\\programs\\python\\python312\\lib\\site-packages (2.2.3)\n",
      "Requirement already satisfied: numpy in c:\\users\\hp\\appdata\\local\\programs\\python\\python312\\lib\\site-packages (2.0.0)\n",
      "Requirement already satisfied: openpyxl in c:\\users\\hp\\appdata\\local\\programs\\python\\python312\\lib\\site-packages (3.1.5)\n",
      "Requirement already satisfied: matplotlib in c:\\users\\hp\\appdata\\local\\programs\\python\\python312\\lib\\site-packages (3.9.2)\n",
      "Requirement already satisfied: seaborn in c:\\users\\hp\\appdata\\local\\programs\\python\\python312\\lib\\site-packages (0.13.2)\n",
      "Requirement already satisfied: python-dateutil>=2.8.2 in c:\\users\\hp\\appdata\\roaming\\python\\python312\\site-packages (from pandas) (2.9.0.post0)\n",
      "Requirement already satisfied: pytz>=2020.1 in c:\\users\\hp\\appdata\\local\\programs\\python\\python312\\lib\\site-packages (from pandas) (2024.2)\n",
      "Requirement already satisfied: tzdata>=2022.7 in c:\\users\\hp\\appdata\\local\\programs\\python\\python312\\lib\\site-packages (from pandas) (2024.2)\n",
      "Requirement already satisfied: et-xmlfile in c:\\users\\hp\\appdata\\local\\programs\\python\\python312\\lib\\site-packages (from openpyxl) (1.1.0)\n",
      "Requirement already satisfied: contourpy>=1.0.1 in c:\\users\\hp\\appdata\\local\\programs\\python\\python312\\lib\\site-packages (from matplotlib) (1.3.0)\n",
      "Requirement already satisfied: cycler>=0.10 in c:\\users\\hp\\appdata\\local\\programs\\python\\python312\\lib\\site-packages (from matplotlib) (0.12.1)\n",
      "Requirement already satisfied: fonttools>=4.22.0 in c:\\users\\hp\\appdata\\local\\programs\\python\\python312\\lib\\site-packages (from matplotlib) (4.54.1)\n",
      "Requirement already satisfied: kiwisolver>=1.3.1 in c:\\users\\hp\\appdata\\local\\programs\\python\\python312\\lib\\site-packages (from matplotlib) (1.4.7)\n",
      "Requirement already satisfied: packaging>=20.0 in c:\\users\\hp\\appdata\\roaming\\python\\python312\\site-packages (from matplotlib) (24.0)\n",
      "Requirement already satisfied: pillow>=8 in c:\\users\\hp\\appdata\\local\\programs\\python\\python312\\lib\\site-packages (from matplotlib) (10.4.0)\n",
      "Requirement already satisfied: pyparsing>=2.3.1 in c:\\users\\hp\\appdata\\local\\programs\\python\\python312\\lib\\site-packages (from matplotlib) (3.2.0)\n",
      "Requirement already satisfied: six>=1.5 in c:\\users\\hp\\appdata\\roaming\\python\\python312\\site-packages (from python-dateutil>=2.8.2->pandas) (1.16.0)\n",
      "Note: you may need to restart the kernel to use updated packages.\n"
     ]
    },
    {
     "name": "stderr",
     "output_type": "stream",
     "text": [
      "\n",
      "[notice] A new release of pip is available: 24.0 -> 24.2\n",
      "[notice] To update, run: python.exe -m pip install --upgrade pip\n"
     ]
    }
   ],
   "source": [
    "pip install pandas numpy openpyxl matplotlib seaborn"
   ]
  },
  {
   "cell_type": "code",
   "execution_count": 9,
   "metadata": {},
   "outputs": [
    {
     "name": "stdout",
     "output_type": "stream",
     "text": [
      "    Manufacturer          Model Name Type of Truck Fuel Consumption (km/l)  \\\n",
      "0    Tata Motors          Tata Prima    Heavy Duty                       3   \n",
      "1    Tata Motors          Tata Signa   Medium Duty                     2.9   \n",
      "2    Tata Motors       Tata LPT 3118    Light Duty                     3.2   \n",
      "3  Ashok Leyland  Ashok Leyland 4020   Medium Duty                     2.8   \n",
      "4  Ashok Leyland  Ashok Leyland 5525    Heavy Duty                     2.7   \n",
      "\n",
      "  CO2 Emissions (g/km)  \n",
      "0                  150  \n",
      "1                  140  \n",
      "2                  135  \n",
      "3                  140  \n",
      "4                  145  \n"
     ]
    }
   ],
   "source": [
    "import pandas as pd\n",
    "\n",
    "# List of Excel files\n",
    "excel_files = [\"C:/Users/hp/Documents/coding/AI Sustainable Dashboard/data-cleaning/truck dataset.xlsx\"] # Replace with your file paths\n",
    "\n",
    "# Read all Excel files and combine them into a single DataFrame\n",
    "df_list = [pd.read_excel(file) for file in excel_files]\n",
    "df = pd.concat(df_list, ignore_index=True)\n",
    "print(df.head())"
   ]
  },
  {
   "cell_type": "code",
   "execution_count": 10,
   "metadata": {},
   "outputs": [
    {
     "name": "stdout",
     "output_type": "stream",
     "text": [
      "     time_epoch              time  temp_c  temp_f  is_day  \\\n",
      "0  1.634236e+09  2021-10-15 00:00    23.2    73.8     0.0   \n",
      "1  1.634240e+09  2021-10-15 01:00    23.0    73.3     0.0   \n",
      "2  1.634243e+09  2021-10-15 02:00    22.7    72.9     0.0   \n",
      "3  1.634247e+09  2021-10-15 03:00    22.5    72.5     0.0   \n",
      "4  1.634251e+09  2021-10-15 04:00    22.3    72.1     0.0   \n",
      "\n",
      "                                           condition  wind_mph  wind_kph  \\\n",
      "0  {'text': 'Clear', 'icon': '//cdn.weatherapi.co...       4.3       6.8   \n",
      "1  {'text': 'Clear', 'icon': '//cdn.weatherapi.co...       4.1       6.6   \n",
      "2  {'text': 'Clear', 'icon': '//cdn.weatherapi.co...       4.0       6.4   \n",
      "3  {'text': 'Clear', 'icon': '//cdn.weatherapi.co...       3.8       6.1   \n",
      "4  {'text': 'Clear', 'icon': '//cdn.weatherapi.co...       3.7       6.0   \n",
      "\n",
      "   wind_degree wind_dir  ...  lon  tz_id  localtime_epoch  localtime  \\\n",
      "0         41.0       NE  ...  NaN    NaN              NaN        NaN   \n",
      "1         34.0       NE  ...  NaN    NaN              NaN        NaN   \n",
      "2         28.0      NNE  ...  NaN    NaN              NaN        NaN   \n",
      "3         22.0      NNE  ...  NaN    NaN              NaN        NaN   \n",
      "4         23.0      NNE  ...  NaN    NaN              NaN        NaN   \n",
      "\n",
      "   Warehouse Name  Location  Size (sq. ft)  Capacity (TEU)  \\\n",
      "0             NaN       NaN            NaN             NaN   \n",
      "1             NaN       NaN            NaN             NaN   \n",
      "2             NaN       NaN            NaN             NaN   \n",
      "3             NaN       NaN            NaN             NaN   \n",
      "4             NaN       NaN            NaN             NaN   \n",
      "\n",
      "   Energy Usage (kWh)  Unnamed: 5  \n",
      "0                 NaN         NaN  \n",
      "1                 NaN         NaN  \n",
      "2                 NaN         NaN  \n",
      "3                 NaN         NaN  \n",
      "4                 NaN         NaN  \n",
      "\n",
      "[5 rows x 48 columns]\n"
     ]
    }
   ],
   "source": [
    "import pandas as pd\n",
    "\n",
    "# List of Excel files\n",
    "csv_files = ['C:/Users/hp/Documents/coding/AI Sustainable Dashboard/data-cleaning/forecast_data.csv', 'C:/Users/hp/Documents/coding/AI Sustainable Dashboard/data-cleaning/location_data.csv','C:/Users/hp/Documents/coding/AI Sustainable Dashboard/data-cleaning/warehouse.sam.csv']  # Replace with your file paths\n",
    "\n",
    "# Read all Excel files and combine them into a single DataFrame\n",
    "df_list = [pd.read_csv(file, encoding='latin-1') for file in csv_files]\n",
    "df = pd.concat(df_list, ignore_index=True)\n",
    "print(df.head())\n"
   ]
  },
  {
   "cell_type": "code",
   "execution_count": 11,
   "metadata": {},
   "outputs": [
    {
     "name": "stdout",
     "output_type": "stream",
     "text": [
      "Index(['time_epoch', 'time', 'temp_c', 'temp_f', 'is_day', 'condition',\n",
      "       'wind_mph', 'wind_kph', 'wind_degree', 'wind_dir', 'pressure_mb',\n",
      "       'pressure_in', 'precip_mm', 'precip_in', 'humidity', 'cloud',\n",
      "       'feelslike_c', 'feelslike_f', 'windchill_c', 'windchill_f',\n",
      "       'heatindex_c', 'heatindex_f', 'dewpoint_c', 'dewpoint_f',\n",
      "       'will_it_rain', 'chance_of_rain', 'will_it_snow', 'chance_of_snow',\n",
      "       'vis_km', 'vis_miles', 'gust_mph', 'gust_kph', 'state', 'city', 'name',\n",
      "       'region', 'country', 'lat', 'lon', 'tz_id', 'localtime_epoch',\n",
      "       'localtime', 'Warehouse Name', 'Location', 'Size (sq. ft)',\n",
      "       'Capacity (TEU)', 'Energy Usage (kWh)', 'Unnamed: 5'],\n",
      "      dtype='object')\n"
     ]
    }
   ],
   "source": [
    "print(df.columns)"
   ]
  },
  {
   "cell_type": "code",
   "execution_count": null,
   "metadata": {},
   "outputs": [],
   "source": []
  }
 ],
 "metadata": {
  "kernelspec": {
   "display_name": "Python 3",
   "language": "python",
   "name": "python3"
  },
  "language_info": {
   "codemirror_mode": {
    "name": "ipython",
    "version": 3
   },
   "file_extension": ".py",
   "mimetype": "text/x-python",
   "name": "python",
   "nbconvert_exporter": "python",
   "pygments_lexer": "ipython3",
   "version": "3.12.3"
  }
 },
 "nbformat": 4,
 "nbformat_minor": 2
}
